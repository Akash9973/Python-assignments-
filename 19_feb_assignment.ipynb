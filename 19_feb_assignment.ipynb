{
 "cells": [
  {
   "cell_type": "markdown",
   "id": "6829213a-1ca6-4363-ab6a-22026c444ff6",
   "metadata": {},
   "source": [
    "Q1. What is Flask Framework? What are the advantages of Flask Framework?\n"
   ]
  },
  {
   "cell_type": "markdown",
   "id": "b88e125c-5c35-4a48-ae3b-c92f5f2029df",
   "metadata": {},
   "source": [
    "Flask framework is a pyhtonic library which is used for creating an API.\n",
    "The advantages of the flask is mentioned below:\n",
    "flask is scalable\n",
    "flask is easy to negotiate\n",
    "flask is easy to rearrange and moved out. Hence it is very flexible"
   ]
  },
  {
   "cell_type": "markdown",
   "id": "811a5069-c7e2-495f-9314-51c10f4499b5",
   "metadata": {},
   "source": [
    "Q2. Create a simple Flask application to display ‘Hello World!!’. Attach the screenshot of the output in\n",
    "Jupyter Notebook."
   ]
  },
  {
   "cell_type": "markdown",
   "id": "a64d2471-22f3-41c9-b586-125b45976538",
   "metadata": {},
   "source": [
    "Code of the program\n",
    "\n",
    "from flask import Flask\n",
    "\n",
    "app = Flask(__name__)\n",
    "\n",
    "@app.route(\"/\")\n",
    "def hello_world():\n",
    "    return \"Hello, World!!\"\n",
    "\n",
    "\n",
    "if __name__==\"__main__\":\n",
    "    app.run(host=\"0.0.0.0\")"
   ]
  },
  {
   "cell_type": "markdown",
   "id": "f83bbdb0-c2ba-4cc4-aaf4-28d0cca0ad7b",
   "metadata": {},
   "source": [
    "Output"
   ]
  },
  {
   "cell_type": "markdown",
   "id": "e3c878f9-195d-483c-bda8-4e2c46f96823",
   "metadata": {},
   "source": [
    "![](img.png)"
   ]
  },
  {
   "cell_type": "markdown",
   "id": "da7394ef-c7b6-4243-b36c-cd4a9fe33478",
   "metadata": {},
   "source": [
    "Q3. What is App routing in Flask? Why do we use app routes?\n"
   ]
  },
  {
   "cell_type": "markdown",
   "id": "d9cdcea0-3b1e-4a13-86f6-95aacb1eaea5",
   "metadata": {},
   "source": [
    "App routing is a decorator which is used to map specific URL in order to perform particular tasks. \n",
    "Suppose in a server there is multiple functions and if you have to perform only one function at a time then we will going to use App routing which will help to run some functions only. The syntax of App routing is \n",
    "\n",
    "@app.route('/')"
   ]
  },
  {
   "cell_type": "markdown",
   "id": "83630b51-3fe4-4c97-8caf-7ef972267466",
   "metadata": {},
   "source": [
    "Q4. Create a “/welcome” route to display the welcome message “Welcome to ABC Corporation” and a “/”\n",
    "route to show the following details:\n",
    "Company Name: ABC Corporation\n",
    "Location: India\n",
    "Contact Detail: 999-999-9999"
   ]
  },
  {
   "cell_type": "markdown",
   "id": "ea0c2518-106d-4653-b810-dc1447b97689",
   "metadata": {},
   "source": [
    "![](1.png)"
   ]
  },
  {
   "cell_type": "markdown",
   "id": "9ec86519-866e-4662-9237-98dea4966130",
   "metadata": {},
   "source": [
    "![](2.png)"
   ]
  },
  {
   "cell_type": "markdown",
   "id": "03a3a92e-589f-4955-b5fb-e9bcd6c63643",
   "metadata": {},
   "source": [
    "![](3.png)"
   ]
  },
  {
   "cell_type": "markdown",
   "id": "b24d69f1-9a7b-4889-abc4-9f130cb9af9c",
   "metadata": {},
   "source": [
    "Q5. What function is used in Flask for URL Building? Write a Python code to demonstrate the working of the\n",
    "url_for() function."
   ]
  },
  {
   "cell_type": "markdown",
   "id": "55bbb0e0-dcc8-493e-9b17-84b87ece3ae5",
   "metadata": {},
   "source": [
    "To build a URL to a specific function, use the url_for() function"
   ]
  }
 ],
 "metadata": {
  "kernelspec": {
   "display_name": "Python 3 (ipykernel)",
   "language": "python",
   "name": "python3"
  },
  "language_info": {
   "codemirror_mode": {
    "name": "ipython",
    "version": 3
   },
   "file_extension": ".py",
   "mimetype": "text/x-python",
   "name": "python",
   "nbconvert_exporter": "python",
   "pygments_lexer": "ipython3",
   "version": "3.10.8"
  }
 },
 "nbformat": 4,
 "nbformat_minor": 5
}
