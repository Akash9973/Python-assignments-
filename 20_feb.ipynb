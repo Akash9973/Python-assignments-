{
 "cells": [
  {
   "cell_type": "markdown",
   "id": "bf055412-1019-48dc-ac24-46e12d4dbd1b",
   "metadata": {},
   "source": [
    "Q1. Explain GET and POST methods."
   ]
  },
  {
   "cell_type": "raw",
   "id": "95198b68-08a8-49f3-86d1-cc1ae50c4671",
   "metadata": {},
   "source": [
    "GET and POST the  commonly used HTTP methods used in web browser.\n",
    "GET is commonly used when we have to take or retrive data from the web server. whereas POST is used to send information to the web server. POST is a secure way to tranfer information. It is also used for sending sensitive datas."
   ]
  },
  {
   "cell_type": "markdown",
   "id": "756cb4d3-895b-4ef0-be46-6a57fdf90c0a",
   "metadata": {},
   "source": [
    "Q2. Why is request used in Flask?"
   ]
  },
  {
   "cell_type": "markdown",
   "id": "687dbb07-774a-44f2-a409-4c2e6334635e",
   "metadata": {},
   "source": [
    "Request is used to take the variables from the web browser. It can be used either in the form of Form or json."
   ]
  },
  {
   "cell_type": "markdown",
   "id": "147d4d8b-4969-4c28-8552-07442de17ec5",
   "metadata": {},
   "source": [
    "Q3. Why is redirect() used in Flask?"
   ]
  },
  {
   "cell_type": "markdown",
   "id": "498c64d5-c7ca-46c1-8f08-58546d73cbcd",
   "metadata": {},
   "source": [
    "redirect() returns a response object and redirects the user to another target location with specified status code."
   ]
  },
  {
   "cell_type": "markdown",
   "id": "cb7efc36-e8be-407c-a8a1-adad329c6a02",
   "metadata": {},
   "source": [
    "Q4. What are templates in Flask? Why is the render_template() function used?"
   ]
  },
  {
   "cell_type": "markdown",
   "id": "a888e0be-58d3-4a79-b1fe-4cebd8519daa",
   "metadata": {},
   "source": [
    "Templates are the files that contains static files or also contains placeholders for dynamic files."
   ]
  },
  {
   "cell_type": "markdown",
   "id": "3c9be42d-ac04-48ea-ad14-26328ed6916f",
   "metadata": {},
   "source": [
    "Q5. Create a simple API. Use Postman to test it. Attach the screenshot of the output in the Jupyter Notebook.Q5. Create a simple API. Use Postman to test it. Attach the screenshot of the output in the Jupyter Notebook."
   ]
  },
  {
   "cell_type": "code",
   "execution_count": null,
   "id": "ba479af9-7eae-4c6b-b855-27925c9aced7",
   "metadata": {},
   "outputs": [],
   "source": []
  }
 ],
 "metadata": {
  "kernelspec": {
   "display_name": "Python 3 (ipykernel)",
   "language": "python",
   "name": "python3"
  },
  "language_info": {
   "codemirror_mode": {
    "name": "ipython",
    "version": 3
   },
   "file_extension": ".py",
   "mimetype": "text/x-python",
   "name": "python",
   "nbconvert_exporter": "python",
   "pygments_lexer": "ipython3",
   "version": "3.10.8"
  }
 },
 "nbformat": 4,
 "nbformat_minor": 5
}
