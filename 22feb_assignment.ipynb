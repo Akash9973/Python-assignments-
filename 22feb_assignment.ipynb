{
 "cells": [
  {
   "cell_type": "code",
   "execution_count": 19,
   "id": "77d0ce38-f0db-4693-bedb-c741ef617908",
   "metadata": {},
   "outputs": [],
   "source": [
    "import pandas as pd"
   ]
  },
  {
   "cell_type": "markdown",
   "id": "12cb1fcd-7d40-4bcd-96ad-7f3edb6bb43b",
   "metadata": {},
   "source": [
    "Q1. Create a Pandas Series that contains the following data: 4, 8, 15, 16, 23, and 42. Then, print the series."
   ]
  },
  {
   "cell_type": "code",
   "execution_count": 2,
   "id": "94b09f01-4af3-401a-8a0e-8f7086e0a520",
   "metadata": {},
   "outputs": [],
   "source": [
    "li = [4, 8, 15, 16, 23,42]"
   ]
  },
  {
   "cell_type": "code",
   "execution_count": 3,
   "id": "54cbe0a3-1a8f-4660-b484-33ab598f3881",
   "metadata": {},
   "outputs": [],
   "source": [
    "df=pd.Series(li)"
   ]
  },
  {
   "cell_type": "code",
   "execution_count": 4,
   "id": "dc3dcf79-86bb-4c93-a789-1dc395e66379",
   "metadata": {},
   "outputs": [
    {
     "data": {
      "text/plain": [
       "0     4\n",
       "1     8\n",
       "2    15\n",
       "3    16\n",
       "4    23\n",
       "5    42\n",
       "dtype: int64"
      ]
     },
     "execution_count": 4,
     "metadata": {},
     "output_type": "execute_result"
    }
   ],
   "source": [
    "df"
   ]
  },
  {
   "cell_type": "code",
   "execution_count": 5,
   "id": "0830550f-0005-4d56-8950-65d2f61b738b",
   "metadata": {},
   "outputs": [
    {
     "data": {
      "text/plain": [
       "pandas.core.series.Series"
      ]
     },
     "execution_count": 5,
     "metadata": {},
     "output_type": "execute_result"
    }
   ],
   "source": [
    "type(df)"
   ]
  },
  {
   "cell_type": "markdown",
   "id": "8cefbf53-d240-4da0-8f5a-347ffc0a89ba",
   "metadata": {},
   "source": [
    "Q2. Create a variable of list type containing 10 elements in it, and apply pandas.Series function on the\n",
    "variable print it."
   ]
  },
  {
   "cell_type": "code",
   "execution_count": 6,
   "id": "a435c489-ef8d-40a8-bbbc-884c345c8128",
   "metadata": {},
   "outputs": [],
   "source": [
    "l2 =[1,3,'pw','data_science',(90,5),66,44,{123,456},'krish','sudh']"
   ]
  },
  {
   "cell_type": "code",
   "execution_count": 7,
   "id": "080416d9-033e-4a72-a706-c759696db86b",
   "metadata": {},
   "outputs": [],
   "source": [
    "df1 = pd.Series(l2)"
   ]
  },
  {
   "cell_type": "code",
   "execution_count": 8,
   "id": "bbdb3f9e-14fb-4c06-b9ce-210966bfbbda",
   "metadata": {},
   "outputs": [
    {
     "data": {
      "text/plain": [
       "0               1\n",
       "1               3\n",
       "2              pw\n",
       "3    data_science\n",
       "4         (90, 5)\n",
       "5              66\n",
       "6              44\n",
       "7      {456, 123}\n",
       "8           krish\n",
       "9            sudh\n",
       "dtype: object"
      ]
     },
     "execution_count": 8,
     "metadata": {},
     "output_type": "execute_result"
    }
   ],
   "source": [
    "df1"
   ]
  },
  {
   "cell_type": "code",
   "execution_count": 9,
   "id": "cb255b14-3c04-4ef7-bca3-2845c91bab9c",
   "metadata": {},
   "outputs": [],
   "source": [
    "dict = {\"Name\":[\"Alice\",\"Bob\",\"Claire\"],\"Age\":[25,30,27],\"gender\":[\"Female\",\"Male\",\"Female\"]}"
   ]
  },
  {
   "cell_type": "code",
   "execution_count": 10,
   "id": "389afb53-f0f1-48d1-9c29-bd92e17dce44",
   "metadata": {},
   "outputs": [],
   "source": [
    "df2 = pd.DataFrame(dict)"
   ]
  },
  {
   "cell_type": "code",
   "execution_count": 11,
   "id": "58635e02-b33d-4f8a-8195-0b2edc5a243a",
   "metadata": {},
   "outputs": [
    {
     "data": {
      "text/html": [
       "<div>\n",
       "<style scoped>\n",
       "    .dataframe tbody tr th:only-of-type {\n",
       "        vertical-align: middle;\n",
       "    }\n",
       "\n",
       "    .dataframe tbody tr th {\n",
       "        vertical-align: top;\n",
       "    }\n",
       "\n",
       "    .dataframe thead th {\n",
       "        text-align: right;\n",
       "    }\n",
       "</style>\n",
       "<table border=\"1\" class=\"dataframe\">\n",
       "  <thead>\n",
       "    <tr style=\"text-align: right;\">\n",
       "      <th></th>\n",
       "      <th>Name</th>\n",
       "      <th>Age</th>\n",
       "      <th>gender</th>\n",
       "    </tr>\n",
       "  </thead>\n",
       "  <tbody>\n",
       "    <tr>\n",
       "      <th>0</th>\n",
       "      <td>Alice</td>\n",
       "      <td>25</td>\n",
       "      <td>Female</td>\n",
       "    </tr>\n",
       "    <tr>\n",
       "      <th>1</th>\n",
       "      <td>Bob</td>\n",
       "      <td>30</td>\n",
       "      <td>Male</td>\n",
       "    </tr>\n",
       "    <tr>\n",
       "      <th>2</th>\n",
       "      <td>Claire</td>\n",
       "      <td>27</td>\n",
       "      <td>Female</td>\n",
       "    </tr>\n",
       "  </tbody>\n",
       "</table>\n",
       "</div>"
      ],
      "text/plain": [
       "     Name  Age  gender\n",
       "0   Alice   25  Female\n",
       "1     Bob   30    Male\n",
       "2  Claire   27  Female"
      ]
     },
     "execution_count": 11,
     "metadata": {},
     "output_type": "execute_result"
    }
   ],
   "source": [
    "df2"
   ]
  },
  {
   "cell_type": "markdown",
   "id": "ddc492fc-e6c5-4d80-8a8b-ecec473b319b",
   "metadata": {},
   "source": [
    "Q4. What is ‘DataFrame’ in pandas and how is it different from pandas.series? Explain with an example."
   ]
  },
  {
   "cell_type": "markdown",
   "id": "829d402e-ca82-4e3b-bb07-624c234503d7",
   "metadata": {},
   "source": [
    "Data frame is a two dimensional tabular structure of data set. whereas pandas series is a one dimensional array holding any data types.Data Frame in pandas contains many number od rows and columns but pandas series contains only one columns\n",
    "\n",
    "series can be represented as df.[\"column_name\"]\n",
    "\n",
    "data frame can be printed as df[['column name']]"
   ]
  },
  {
   "cell_type": "code",
   "execution_count": 12,
   "id": "8bc03b1b-44f4-477c-a3e0-824037542a86",
   "metadata": {},
   "outputs": [
    {
     "data": {
      "text/plain": [
       "0    25\n",
       "1    30\n",
       "2    27\n",
       "Name: Age, dtype: int64"
      ]
     },
     "execution_count": 12,
     "metadata": {},
     "output_type": "execute_result"
    }
   ],
   "source": [
    "#for example\n",
    "df2['Age']"
   ]
  },
  {
   "cell_type": "code",
   "execution_count": 13,
   "id": "e4bcb5af-051d-494a-b24a-3a5a9f97c820",
   "metadata": {},
   "outputs": [
    {
     "data": {
      "text/plain": [
       "pandas.core.series.Series"
      ]
     },
     "execution_count": 13,
     "metadata": {},
     "output_type": "execute_result"
    }
   ],
   "source": [
    "type(df2['Age'])"
   ]
  },
  {
   "cell_type": "code",
   "execution_count": 14,
   "id": "093a73ab-739b-4bc0-9928-2edfbf523527",
   "metadata": {},
   "outputs": [
    {
     "data": {
      "text/html": [
       "<div>\n",
       "<style scoped>\n",
       "    .dataframe tbody tr th:only-of-type {\n",
       "        vertical-align: middle;\n",
       "    }\n",
       "\n",
       "    .dataframe tbody tr th {\n",
       "        vertical-align: top;\n",
       "    }\n",
       "\n",
       "    .dataframe thead th {\n",
       "        text-align: right;\n",
       "    }\n",
       "</style>\n",
       "<table border=\"1\" class=\"dataframe\">\n",
       "  <thead>\n",
       "    <tr style=\"text-align: right;\">\n",
       "      <th></th>\n",
       "      <th>Age</th>\n",
       "    </tr>\n",
       "  </thead>\n",
       "  <tbody>\n",
       "    <tr>\n",
       "      <th>0</th>\n",
       "      <td>25</td>\n",
       "    </tr>\n",
       "    <tr>\n",
       "      <th>1</th>\n",
       "      <td>30</td>\n",
       "    </tr>\n",
       "    <tr>\n",
       "      <th>2</th>\n",
       "      <td>27</td>\n",
       "    </tr>\n",
       "  </tbody>\n",
       "</table>\n",
       "</div>"
      ],
      "text/plain": [
       "   Age\n",
       "0   25\n",
       "1   30\n",
       "2   27"
      ]
     },
     "execution_count": 14,
     "metadata": {},
     "output_type": "execute_result"
    }
   ],
   "source": [
    "df2[['Age']]"
   ]
  },
  {
   "cell_type": "code",
   "execution_count": 15,
   "id": "8a5df53a-4bcc-454f-9c3b-1781893e0162",
   "metadata": {},
   "outputs": [
    {
     "data": {
      "text/plain": [
       "pandas.core.frame.DataFrame"
      ]
     },
     "execution_count": 15,
     "metadata": {},
     "output_type": "execute_result"
    }
   ],
   "source": [
    "type(df2[['Age']])"
   ]
  },
  {
   "cell_type": "markdown",
   "id": "d9f2d37a-62d1-4f88-b067-a536a978110b",
   "metadata": {},
   "source": [
    "What are some common functions you can use to manipulate data in a Pandas DataFrame? Can\n",
    "you give an example of when you might use one of these functions?"
   ]
  },
  {
   "cell_type": "markdown",
   "id": "32654346-28f9-4f8f-9c1f-3098befeeb18",
   "metadata": {},
   "source": [
    "There are numerous function availabe in pandas library. Some of them are\n",
    "1. head()\n",
    "2. tail()\n",
    "3.dtype\n",
    "4.columns\n",
    "\n",
    "head(n) is used to print n number of rows from the top in a dataset.\n",
    "tail(n) is used to print n number of rows from the bottom in a dataset.\n",
    "dtypes is used to print the data types of each columns in a data set\n",
    "columns is used to give the name of every column value in  a dataset"
   ]
  },
  {
   "cell_type": "markdown",
   "id": "3a79f6de-565b-4495-a4f6-86075b1f91d9",
   "metadata": {},
   "source": [
    "Q6. Which of the following is mutable in nature Series, DataFrame, Panel?"
   ]
  },
  {
   "cell_type": "markdown",
   "id": "62ee7a8a-8601-48ee-907b-09efb9e38d6f",
   "metadata": {},
   "source": [
    "DataFrame and Panel is mutable"
   ]
  },
  {
   "cell_type": "markdown",
   "id": "234db8ca-92bf-4bb6-9dc2-13f394a5d0ab",
   "metadata": {},
   "source": [
    "Create a DataFrame using multiple Series. Explain with an example."
   ]
  },
  {
   "cell_type": "code",
   "execution_count": 22,
   "id": "33213883-c8f9-40e1-8436-2162868a1d57",
   "metadata": {},
   "outputs": [],
   "source": [
    "s1 = pd.Series([1,2,3,4,5])\n",
    "s2 = pd.Series([\"a\",\"b\",\"c\",\"d\",\"e\"])\n",
    "s3 = pd.Series([1.2,1.3,1.4,1.5,1.6])\n"
   ]
  },
  {
   "cell_type": "code",
   "execution_count": null,
   "id": "b470c81f-5b51-45cb-ac02-98ddf54611f1",
   "metadata": {},
   "outputs": [],
   "source": [
    "df4 = pd.DataFrame({\"col1\":s})"
   ]
  }
 ],
 "metadata": {
  "kernelspec": {
   "display_name": "Python 3 (ipykernel)",
   "language": "python",
   "name": "python3"
  },
  "language_info": {
   "codemirror_mode": {
    "name": "ipython",
    "version": 3
   },
   "file_extension": ".py",
   "mimetype": "text/x-python",
   "name": "python",
   "nbconvert_exporter": "python",
   "pygments_lexer": "ipython3",
   "version": "3.10.8"
  }
 },
 "nbformat": 4,
 "nbformat_minor": 5
}
