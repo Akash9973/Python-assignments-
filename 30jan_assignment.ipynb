{
 "cells": [
  {
   "cell_type": "code",
   "execution_count": 30,
   "id": "157512aa-5df3-423a-9378-5f82e0c016a4",
   "metadata": {},
   "outputs": [
    {
     "name": "stdin",
     "output_type": "stream",
     "text": [
      "Enter your marks: 55\n"
     ]
    },
    {
     "name": "stdout",
     "output_type": "stream",
     "text": [
      "Grade : D\n"
     ]
    }
   ],
   "source": [
    "marks=int(input(\"Enter your marks:\"))\n",
    "if marks > 90:\n",
    "    print(\"Grade : A\")\n",
    "if marks>80 and marks<=90:\n",
    "    print(\"Grade : B\")\n",
    "if marks>=60 and marks<=80:\n",
    "    print(\"Grade : C\")\n",
    "if marks<60:\n",
    "    print(\"Grade : D\")"
   ]
  },
  {
   "cell_type": "code",
   "execution_count": 13,
   "id": "c98272b2-3039-4cec-b4be-c7a89a9e2fe1",
   "metadata": {},
   "outputs": [
    {
     "name": "stdin",
     "output_type": "stream",
     "text": [
      "Enter the cost price of a bike: 40000\n"
     ]
    },
    {
     "name": "stdout",
     "output_type": "stream",
     "text": [
      "40000\n",
      "Tax : 2000.0\n"
     ]
    }
   ],
   "source": [
    "cp=int(input(\"Enter the cost price of a bike:\"))\n",
    "if cp>100000:\n",
    "    print(cp)\n",
    "    print(\"Tax :\", 0.15*cp)\n",
    "if cp>50000 and cp<=100000:\n",
    "    print(cp)\n",
    "    print(\"Tax :\", 0.1*cp)\n",
    "if cp<=50000:\n",
    "    print(cp)\n",
    "    print(\"Tax :\", 0.05*cp)"
   ]
  },
  {
   "cell_type": "code",
   "execution_count": 19,
   "id": "9ec5a26b-db2c-426b-8f6b-fb7d2c3302a9",
   "metadata": {},
   "outputs": [
    {
     "name": "stdin",
     "output_type": "stream",
     "text": [
      "Enter the city name: Agra\n"
     ]
    },
    {
     "name": "stdout",
     "output_type": "stream",
     "text": [
      "monument:Taj Mahal\n"
     ]
    }
   ],
   "source": [
    "city=input(\"Enter the city name:\")\n",
    "if city==\"Delhi\":\n",
    "    print(\"monument:Red Fort\")\n",
    "if city==\"Agra\":\n",
    "    print(\"monument:Taj Mahal\")\n",
    "if city==\"Jaipur\":\n",
    "    print(\"monument:Jal Mahal\")\n"
   ]
  },
  {
   "cell_type": "code",
   "execution_count": 29,
   "id": "bc78c30b-dfda-4225-bfa1-1e769d1eadcc",
   "metadata": {},
   "outputs": [
    {
     "name": "stdin",
     "output_type": "stream",
     "text": [
      "Enter the number: 1000\n"
     ]
    },
    {
     "name": "stdout",
     "output_type": "stream",
     "text": [
      "5\n"
     ]
    }
   ],
   "source": [
    "num=int(input(\"Enter the number:\"))\n",
    "count=0\n",
    "while(num>10):\n",
    "    num=num/3\n",
    "    count=count+1\n",
    "print(count)    \n",
    "    "
   ]
  },
  {
   "cell_type": "markdown",
   "id": "d57e5a53-305a-4f87-870e-a36bb92dcdf0",
   "metadata": {},
   "source": [
    "#### Q5 why and when to use while loop in python"
   ]
  },
  {
   "cell_type": "markdown",
   "id": "d2a15d73-67c8-4882-98b8-a0a7934ca48d",
   "metadata": {},
   "source": [
    "ans: we use while loop when we have to execute the same code repeatively until and unless the condition is true.\n",
    "When the condition become false the code terminates itself. Hence while loop is a conditional dependent program.Suppose we have print the numbers between 1 to 10 then we have  to give the condition that the initial value is 1 but the number must be less than or equal to 10. Therefore when the program  starts its starts printing from the initial value of 1 and it continuous but when the number becomes greater than 10 the progran termintes.\n",
    "\n",
    "While loop has a wide applications when continuous program execution is required "
   ]
  },
  {
   "cell_type": "code",
   "execution_count": 33,
   "id": "8ba7e1ee-1004-4415-9bcb-105beb4fa631",
   "metadata": {},
   "outputs": [
    {
     "name": "stdout",
     "output_type": "stream",
     "text": [
      "1\n",
      "2\n",
      "3\n",
      "4\n",
      "5\n",
      "6\n",
      "7\n",
      "8\n",
      "9\n"
     ]
    }
   ],
   "source": [
    "## example\n",
    "num=1\n",
    "while num<10:\n",
    "    print(num)\n",
    "    num=num+1"
   ]
  },
  {
   "cell_type": "code",
   "execution_count": 1,
   "id": "1dfdbfbe-a8f4-4ca7-92a4-74dd76fc95ff",
   "metadata": {},
   "outputs": [
    {
     "name": "stdin",
     "output_type": "stream",
     "text": [
      "Enter the size of square 7\n"
     ]
    },
    {
     "name": "stdout",
     "output_type": "stream",
     "text": [
      " *  *  *  *  *  *  * \n",
      " *  *  *  *  *  *  * \n",
      " *  *  *  *  *  *  * \n",
      " *  *  *  *  *  *  * \n",
      " *  *  *  *  *  *  * \n",
      " *  *  *  *  *  *  * \n",
      " *  *  *  *  *  *  * \n"
     ]
    }
   ],
   "source": [
    "## printing a square\n",
    "size=int(input(\"Enter the size of square\"))\n",
    "\n",
    "for i in range(0,size):\n",
    "    for j in range(0,size):\n",
    "        print(\" * \",end=\"\")\n",
    "    print(\"\\r\")    "
   ]
  },
  {
   "cell_type": "code",
   "execution_count": 18,
   "id": "bb159ef4-4204-42d9-a69e-bfebcd962da4",
   "metadata": {},
   "outputs": [
    {
     "name": "stdin",
     "output_type": "stream",
     "text": [
      "enter the size of row: 5\n",
      "enter the size of column: 8\n"
     ]
    },
    {
     "name": "stdout",
     "output_type": "stream",
     "text": [
      "* * * * * * * * \n",
      "*             * \n",
      "*             * \n",
      "*             * \n",
      "* * * * * * * * \n"
     ]
    }
   ],
   "source": [
    "## printing  an hollow rectangle\n",
    "row=int(input(\"enter the size of row:\"))\n",
    "\n",
    "col=int(input(\"enter the size of column:\"))\n",
    "\n",
    "for i in range(1,row+1):\n",
    "    for j in range(1,col+1):\n",
    "        if i==1 or i==row or j==1 or j==col:\n",
    "            print(\"*\",end=\" \")\n",
    "        else:\n",
    "            print(\" \",end=\" \")\n",
    "    print(\"\\r\")       "
   ]
  },
  {
   "cell_type": "code",
   "execution_count": 22,
   "id": "9d2109e5-a8b0-4163-a8c1-f46b2a1b1feb",
   "metadata": {},
   "outputs": [
    {
     "name": "stdin",
     "output_type": "stream",
     "text": [
      "enter the size of pyramid: 6\n"
     ]
    },
    {
     "name": "stdout",
     "output_type": "stream",
     "text": [
      "     *\n",
      "    **\n",
      "   ***\n",
      "  ****\n",
      " *****\n",
      "******\n"
     ]
    }
   ],
   "source": [
    "##printing half pyramid with 180 rotation\n",
    "n=int(input(\"enter the size of pyramid:\"))\n",
    "for i in range(1,n+1):\n",
    "    for j in range(1,n+1):\n",
    "        if(j<=n-i):\n",
    "            print(\" \",end=\"\")\n",
    "        else:\n",
    "            print(\"*\",end=\"\")\n",
    "    print(\"\\r\")       "
   ]
  },
  {
   "cell_type": "code",
   "execution_count": 26,
   "id": "e0a6653d-b7a0-489d-a85a-4ecac607a841",
   "metadata": {},
   "outputs": [
    {
     "name": "stdout",
     "output_type": "stream",
     "text": [
      "10\n",
      "9\n",
      "8\n",
      "7\n",
      "6\n",
      "5\n",
      "4\n",
      "3\n",
      "2\n",
      "1\n"
     ]
    }
   ],
   "source": [
    "number=10\n",
    "while number>0:\n",
    "    print(number)\n",
    "    number=number-1"
   ]
  },
  {
   "cell_type": "code",
   "execution_count": null,
   "id": "1ca124c5-7575-46e9-978b-f4ee21585602",
   "metadata": {},
   "outputs": [],
   "source": []
  }
 ],
 "metadata": {
  "kernelspec": {
   "display_name": "Python 3 (ipykernel)",
   "language": "python",
   "name": "python3"
  },
  "language_info": {
   "codemirror_mode": {
    "name": "ipython",
    "version": 3
   },
   "file_extension": ".py",
   "mimetype": "text/x-python",
   "name": "python",
   "nbconvert_exporter": "python",
   "pygments_lexer": "ipython3",
   "version": "3.10.8"
  }
 },
 "nbformat": 4,
 "nbformat_minor": 5
}
