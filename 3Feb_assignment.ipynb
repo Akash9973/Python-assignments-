{
 "cells": [
  {
   "cell_type": "markdown",
   "id": "87e2bebd-b1af-4729-b536-21ee536814cd",
   "metadata": {},
   "source": [
    "Q1. Which keyword is used to create a function? Create a function to return a list of odd numbers in the\n",
    "range of 1 to 25."
   ]
  },
  {
   "cell_type": "markdown",
   "id": "99909a9d-3eec-4dbd-826a-a72c9bb90f40",
   "metadata": {},
   "source": [
    "ans: \"def\" keyword is used to create a function"
   ]
  },
  {
   "cell_type": "code",
   "execution_count": 17,
   "id": "f2eb7391-fdd7-4fa4-abb7-9a31c132d3bb",
   "metadata": {},
   "outputs": [],
   "source": [
    "def odd_number(a):\n",
    "    i=0\n",
    "    while i<=a:\n",
    "        if i%2==0:\n",
    "            print(\"\")\n",
    "        else:\n",
    "            print(i)\n",
    "        i=i+1    "
   ]
  },
  {
   "cell_type": "code",
   "execution_count": 18,
   "id": "cc54486c-b828-4c28-b4eb-9b50915ece92",
   "metadata": {},
   "outputs": [
    {
     "name": "stdout",
     "output_type": "stream",
     "text": [
      "\n",
      "1\n",
      "\n",
      "3\n",
      "\n",
      "5\n",
      "\n",
      "7\n",
      "\n",
      "9\n",
      "\n",
      "11\n",
      "\n",
      "13\n",
      "\n",
      "15\n",
      "\n",
      "17\n",
      "\n",
      "19\n",
      "\n",
      "21\n",
      "\n",
      "23\n",
      "\n",
      "25\n"
     ]
    }
   ],
   "source": [
    "odd_number(25)"
   ]
  },
  {
   "cell_type": "markdown",
   "id": "0f2c3c57-6da4-478c-a8d8-064756d1b6fe",
   "metadata": {},
   "source": [
    "Q2. Why *args and **kwargs is used in some functions? Create a function each for *args and **kwargs to\n",
    "demonstrate their use."
   ]
  },
  {
   "cell_type": "markdown",
   "id": "565f2a94-3cea-47dd-9763-22ad47a6f7aa",
   "metadata": {},
   "source": [
    "and: *args is used when we have to return any number of variables in a function\n",
    "**kwargs is used when we have to return key and its value in a function"
   ]
  },
  {
   "cell_type": "code",
   "execution_count": 19,
   "id": "416ed573-4dac-4215-92b7-a3ca5ecb07c4",
   "metadata": {},
   "outputs": [],
   "source": [
    "def fun_1(*args):\n",
    "    return args"
   ]
  },
  {
   "cell_type": "code",
   "execution_count": 20,
   "id": "b7cf1ce9-0516-4051-bcab-cdf4727be2b6",
   "metadata": {},
   "outputs": [
    {
     "data": {
      "text/plain": [
       "(1,)"
      ]
     },
     "execution_count": 20,
     "metadata": {},
     "output_type": "execute_result"
    }
   ],
   "source": [
    "fun_1(1)"
   ]
  },
  {
   "cell_type": "code",
   "execution_count": 21,
   "id": "e5b19846-2250-4592-82d0-f8062c620a3f",
   "metadata": {},
   "outputs": [
    {
     "data": {
      "text/plain": [
       "(1, 2, 3, 4, 5, 67)"
      ]
     },
     "execution_count": 21,
     "metadata": {},
     "output_type": "execute_result"
    }
   ],
   "source": [
    "fun_1(1,2,3,4,5,67)"
   ]
  },
  {
   "cell_type": "code",
   "execution_count": 22,
   "id": "19fab47f-9463-483c-9eaa-401222d13ef2",
   "metadata": {},
   "outputs": [],
   "source": [
    "def fun_2(**kwargs):\n",
    "    return kwargs"
   ]
  },
  {
   "cell_type": "code",
   "execution_count": 25,
   "id": "1e2af5d4-764b-4bd1-bf8c-23a68730663a",
   "metadata": {},
   "outputs": [
    {
     "data": {
      "text/plain": [
       "{'name': 'Akash', 'id': 205, 'hobby': 'singing'}"
      ]
     },
     "execution_count": 25,
     "metadata": {},
     "output_type": "execute_result"
    }
   ],
   "source": [
    "fun_2(name=\"Akash\",id=205,hobby=\"singing\")"
   ]
  },
  {
   "cell_type": "markdown",
   "id": "54025b13-6b7c-4a93-aa9c-35e923827b6a",
   "metadata": {},
   "source": [
    "Q3. What is an iterator in python? Name the method used to initialise the iterator object and the method\n",
    "used for iteration. Use these methods to print the first five elements of the given list [2, 4, 6, 8, 10, 12, 14, 16,\n",
    "18, 20]."
   ]
  },
  {
   "cell_type": "markdown",
   "id": "44acca1b-61ae-4c05-a629-1cf236c85def",
   "metadata": {},
   "source": [
    "ans: Iterators are the objects which contains the countable number of values. \n",
    "The __iter__() function returns an iterator for the given object (array, set, tuple, etc. or custom objects).  __next__() function, which generally comes in handy when dealing with loops."
   ]
  },
  {
   "cell_type": "code",
   "execution_count": 31,
   "id": "88b795fe-2ff4-4f0b-ba45-640812b2b4e9",
   "metadata": {},
   "outputs": [
    {
     "name": "stdout",
     "output_type": "stream",
     "text": [
      "2\n",
      "4\n",
      "6\n",
      "8\n",
      "10\n"
     ]
    }
   ],
   "source": [
    "list=[2, 4, 6, 8, 10, 12, 14, 16, 18, 20]\n",
    "\n",
    "iter_list=iter(list)\n",
    "\n",
    "print(next(iter_list))\n",
    "print(next(iter_list))\n",
    "print(next(iter_list))\n",
    "print(next(iter_list))\n",
    "print(next(iter_list))\n"
   ]
  },
  {
   "cell_type": "markdown",
   "id": "b2b7228c-144a-4a59-98ab-8ced36a6a1ce",
   "metadata": {},
   "source": [
    "Q4. What is a generator function in python? Why yield keyword is used? Give an example of a generator\n",
    "function."
   ]
  },
  {
   "cell_type": "markdown",
   "id": "4183d023-a02f-4135-866e-8c8238ce36d0",
   "metadata": {},
   "source": [
    "ans: Generator functions are those types of function which is used to return sequence of statement in a function\n",
    "Yield is just used to return the elements in a generator function.\n"
   ]
  },
  {
   "cell_type": "code",
   "execution_count": 41,
   "id": "6269be3f-2fc7-43ed-9981-e1cfe8fc69de",
   "metadata": {},
   "outputs": [],
   "source": [
    "## Printing fibonacci series\n",
    "def fibbonaci(n):\n",
    "    a,b=0,1\n",
    "    for i in range(n):\n",
    "        yield a\n",
    "        a,b=b,a+b"
   ]
  },
  {
   "cell_type": "code",
   "execution_count": 42,
   "id": "be7ecbd6-2e17-4d23-a656-edb74e765c22",
   "metadata": {},
   "outputs": [
    {
     "name": "stdout",
     "output_type": "stream",
     "text": [
      "0\n",
      "1\n",
      "1\n",
      "2\n",
      "3\n",
      "5\n",
      "8\n",
      "13\n",
      "21\n"
     ]
    }
   ],
   "source": [
    "for i in fibbonaci(9):\n",
    "    print(i)"
   ]
  },
  {
   "cell_type": "markdown",
   "id": "f863cc64-c0eb-4303-b50a-17487f7b65ca",
   "metadata": {},
   "source": [
    "Q5. Create a generator function for prime numbers less than 1000. Use the next() method to print the\n",
    "first 20 prime numbers."
   ]
  },
  {
   "cell_type": "code",
   "execution_count": 74,
   "id": "b627c013-c531-4c32-93ff-c89f322b9f89",
   "metadata": {},
   "outputs": [],
   "source": [
    "def Prime(n):\n",
    "    for i in range(0,n):\n",
    "        count=0\n",
    "        for j in range(2,i):\n",
    "            if (i%j)==0:\n",
    "                count=count+1\n",
    "        if count==0:\n",
    "            data=iter(i)\n",
    "            print(next(data))\n",
    "        "
   ]
  },
  {
   "cell_type": "code",
   "execution_count": 75,
   "id": "3a52a1f9-17b0-433d-891f-b5b502fe68aa",
   "metadata": {},
   "outputs": [
    {
     "ename": "TypeError",
     "evalue": "'int' object is not iterable",
     "output_type": "error",
     "traceback": [
      "\u001b[0;31m---------------------------------------------------------------------------\u001b[0m",
      "\u001b[0;31mTypeError\u001b[0m                                 Traceback (most recent call last)",
      "Cell \u001b[0;32mIn[75], line 1\u001b[0m\n\u001b[0;32m----> 1\u001b[0m \u001b[43mPrime\u001b[49m\u001b[43m(\u001b[49m\u001b[38;5;241;43m1000\u001b[39;49m\u001b[43m)\u001b[49m\n",
      "Cell \u001b[0;32mIn[74], line 8\u001b[0m, in \u001b[0;36mPrime\u001b[0;34m(n)\u001b[0m\n\u001b[1;32m      6\u001b[0m         count\u001b[38;5;241m=\u001b[39mcount\u001b[38;5;241m+\u001b[39m\u001b[38;5;241m1\u001b[39m\n\u001b[1;32m      7\u001b[0m \u001b[38;5;28;01mif\u001b[39;00m count\u001b[38;5;241m==\u001b[39m\u001b[38;5;241m0\u001b[39m:\n\u001b[0;32m----> 8\u001b[0m     data\u001b[38;5;241m=\u001b[39m\u001b[38;5;28;43miter\u001b[39;49m\u001b[43m(\u001b[49m\u001b[43mi\u001b[49m\u001b[43m)\u001b[49m\n\u001b[1;32m      9\u001b[0m     \u001b[38;5;28mprint\u001b[39m(\u001b[38;5;28mnext\u001b[39m(data))\n",
      "\u001b[0;31mTypeError\u001b[0m: 'int' object is not iterable"
     ]
    }
   ],
   "source": [
    "Prime(1000)"
   ]
  },
  {
   "cell_type": "code",
   "execution_count": null,
   "id": "7c68f2a4-ada1-49dc-804f-50b0dec851c6",
   "metadata": {},
   "outputs": [],
   "source": []
  }
 ],
 "metadata": {
  "kernelspec": {
   "display_name": "Python 3 (ipykernel)",
   "language": "python",
   "name": "python3"
  },
  "language_info": {
   "codemirror_mode": {
    "name": "ipython",
    "version": 3
   },
   "file_extension": ".py",
   "mimetype": "text/x-python",
   "name": "python",
   "nbconvert_exporter": "python",
   "pygments_lexer": "ipython3",
   "version": "3.10.8"
  }
 },
 "nbformat": 4,
 "nbformat_minor": 5
}
