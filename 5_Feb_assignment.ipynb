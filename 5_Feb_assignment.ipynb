{
 "cells": [
  {
   "cell_type": "markdown",
   "id": "16590d3d-c273-41b1-947b-e20c0eec7c8b",
   "metadata": {},
   "source": [
    "## Assignment\n",
    "\n",
    "###### Date:  5th Feb 2023"
   ]
  },
  {
   "cell_type": "markdown",
   "id": "9ef3aa35-c1d2-4ff7-b60f-6aa338011184",
   "metadata": {},
   "source": [
    "### Q1. Explain Class and Object with respect to Object-Oriented Programming. Give a suitable example."
   ]
  },
  {
   "cell_type": "markdown",
   "id": "49d61c6b-98fc-48d5-ad1d-470bfd2a0cf7",
   "metadata": {},
   "source": [
    "#### class is nothing but the blueprint of an objects. For any real world objects properties an behaviour is the class for an objects. when a class is defined then memory is not being allocated\n",
    "\n",
    "#### Objects is a real entity that works on class data. We do programming for an obeject. When objects is created then space (memory) is being taken.\n",
    "\n",
    "#### for eg a Car is an object but its property like speed, number of wheels , color etc are the class\n"
   ]
  },
  {
   "cell_type": "markdown",
   "id": "f38bf04f-ebec-48d6-bd0f-44c9a40a6cdd",
   "metadata": {},
   "source": [
    "### Q2. Name the four pillars of OOPs."
   ]
  },
  {
   "cell_type": "markdown",
   "id": "e3c9d7a4-e10a-4f8a-8b8d-b327fbdbef0f",
   "metadata": {},
   "source": [
    "#### The four different pillars of OOPs are : Abstraction,Inheritance,Encapsulation,Polymorphism"
   ]
  },
  {
   "cell_type": "markdown",
   "id": "58d98bc3-d185-4538-b3a7-b4ba87345ceb",
   "metadata": {},
   "source": [
    "### Q3 Explain why the __init__() function is used. Give a suitable example."
   ]
  },
  {
   "cell_type": "markdown",
   "id": "acf763b1-76ea-4c6b-aeb7-3905080ca9b5",
   "metadata": {},
   "source": [
    "####  init() function  is a constructor which is being called everytime when an object created from a class \n",
    "#### when you create an objects it automatically calls the elements present in init function\n"
   ]
  },
  {
   "cell_type": "markdown",
   "id": "31102d33-5aa0-4f2c-a538-1047b4c49be9",
   "metadata": {},
   "source": [
    "### Q4. Why self is used in OOPs?"
   ]
  },
  {
   "cell_type": "markdown",
   "id": "e28a591b-32d1-4385-ae98-96dc5cb3b9e0",
   "metadata": {},
   "source": [
    "#### self is pointer which is used for pointing to a variable in a class "
   ]
  },
  {
   "cell_type": "markdown",
   "id": "a1cc85fc-45d5-4586-ac53-fd22301d1a44",
   "metadata": {},
   "source": [
    "###  Q5. What is inheritance? Give an example for each type of inheritance."
   ]
  },
  {
   "cell_type": "markdown",
   "id": "a873db75-adaa-42f8-b1fa-6ac41c6b8b68",
   "metadata": {},
   "source": [
    "#### Inheritance is a mechanism of acquiring the behaviour of a class by another class\n",
    "#### There are 5 types of inheritance :- \n",
    "#### 1. Single Inheritance\n",
    "#### eg- A child inherit characteristics from single parent\n",
    "#### 2. Multiple Inheritance\n",
    "#### eg- A child class to inherits from more than one parent class\n",
    "#### 3. Multilevel Inheritance\n",
    "#### eg- a child inherits the characterstics from their grand father\n",
    "#### 4.Hierarchical Inheritance\n",
    "#### eg- ##\n",
    "#### 5.Hybrid Inheritance\n",
    "\n"
   ]
  }
 ],
 "metadata": {
  "kernelspec": {
   "display_name": "Python 3 (ipykernel)",
   "language": "python",
   "name": "python3"
  },
  "language_info": {
   "codemirror_mode": {
    "name": "ipython",
    "version": 3
   },
   "file_extension": ".py",
   "mimetype": "text/x-python",
   "name": "python",
   "nbconvert_exporter": "python",
   "pygments_lexer": "ipython3",
   "version": "3.10.8"
  }
 },
 "nbformat": 4,
 "nbformat_minor": 5
}
