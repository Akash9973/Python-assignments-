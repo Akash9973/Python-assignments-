{
 "cells": [
  {
   "cell_type": "code",
   "execution_count": 1,
   "id": "4c009dc9-02eb-4699-b3a8-cdae1bddaaee",
   "metadata": {},
   "outputs": [],
   "source": [
    "def password():\n",
    "    l,u,s,d=0,0,0,0\n",
    "    passw = input(\"Enter the password: \")\n",
    "\n",
    "    if (len(passw)>10):\n",
    "        for i in passw:\n",
    "            if i.islower():\n",
    "                l=l+1\n",
    "            if i.isupper():\n",
    "                u=u+1\n",
    "            if i.isdigit():\n",
    "                d=d+1\n",
    "            if(i== '@' or i== '#',i== '_'):\n",
    "                s=s+1\n",
    "        if(l>1 and u>1 and s>1 and d>1):\n",
    "            print(\"Valid password\")\n",
    "    else:\n",
    "            print(\"Invalid Password\")\n",
    "    \n",
    "    \n",
    "\n",
    "    \n",
    "    \n",
    "    "
   ]
  },
  {
   "cell_type": "code",
   "execution_count": 3,
   "id": "08db1589-d73c-4044-8f66-f2219d6fbdfc",
   "metadata": {},
   "outputs": [
    {
     "name": "stdin",
     "output_type": "stream",
     "text": [
      "Enter the password:  123\n"
     ]
    },
    {
     "name": "stdout",
     "output_type": "stream",
     "text": [
      "Invalid Password\n"
     ]
    }
   ],
   "source": [
    "password()"
   ]
  },
  {
   "cell_type": "code",
   "execution_count": 5,
   "id": "b5609761-7250-4cdf-8319-1269c1d85264",
   "metadata": {},
   "outputs": [],
   "source": [
    "string= \"Hello\"\n",
    "\n",
    "check = lambda x:x.startswith(\"H\")"
   ]
  },
  {
   "cell_type": "code",
   "execution_count": 6,
   "id": "bdb20b96-0065-4d01-9e95-ffb04108d7fe",
   "metadata": {},
   "outputs": [
    {
     "data": {
      "text/plain": [
       "True"
      ]
     },
     "execution_count": 6,
     "metadata": {},
     "output_type": "execute_result"
    }
   ],
   "source": [
    "check(string)"
   ]
  },
  {
   "cell_type": "code",
   "execution_count": 14,
   "id": "babf856c-06c7-4652-9235-518ad7272ed8",
   "metadata": {},
   "outputs": [
    {
     "name": "stdin",
     "output_type": "stream",
     "text": [
      "Enter the value 343\n"
     ]
    }
   ],
   "source": [
    "word=input(\"Enter the value\")\n",
    "\n",
    "check1 = lambda x:x.isnumeric()"
   ]
  },
  {
   "cell_type": "code",
   "execution_count": 15,
   "id": "d8d2fee2-c1b8-4a5d-85aa-fa2a5db904c6",
   "metadata": {},
   "outputs": [
    {
     "data": {
      "text/plain": [
       "True"
      ]
     },
     "execution_count": 15,
     "metadata": {},
     "output_type": "execute_result"
    }
   ],
   "source": [
    "check1(word)"
   ]
  },
  {
   "cell_type": "code",
   "execution_count": 16,
   "id": "673b98d4-1229-476d-99e4-84670d29c839",
   "metadata": {},
   "outputs": [],
   "source": [
    "list =[(\"mango\",99),(\"orange\",80), (\"grapes\", 1000)]"
   ]
  },
  {
   "cell_type": "code",
   "execution_count": 17,
   "id": "ff7d5df7-985a-45d3-a8f1-95c6a8f2e9ed",
   "metadata": {},
   "outputs": [
    {
     "name": "stdout",
     "output_type": "stream",
     "text": [
      "sorted list:  [('orange', 80), ('mango', 99), ('grapes', 1000)]\n"
     ]
    }
   ],
   "source": [
    "newList = sorted(list, key = lambda x : x[1],reverse=False)\n",
    "print(\"sorted list: \",newList)"
   ]
  },
  {
   "cell_type": "code",
   "execution_count": 18,
   "id": "77a6ea16-c5b9-4437-ae61-f9e040ef5bd5",
   "metadata": {},
   "outputs": [
    {
     "data": {
      "text/plain": [
       "(1, 4, 9, 16, 25, 36, 49, 64, 81, 100)"
      ]
     },
     "execution_count": 18,
     "metadata": {},
     "output_type": "execute_result"
    }
   ],
   "source": [
    "list1=[1,2,3,4,5,6,7,8,9,10]\n",
    "tuple(map(lambda x: x**2 , list1))"
   ]
  },
  {
   "cell_type": "code",
   "execution_count": 19,
   "id": "a397420c-d544-4284-a39f-52e4fce4c5cc",
   "metadata": {},
   "outputs": [
    {
     "data": {
      "text/plain": [
       "(1, 8, 27, 64, 125, 216, 343, 512, 729, 1000)"
      ]
     },
     "execution_count": 19,
     "metadata": {},
     "output_type": "execute_result"
    }
   ],
   "source": [
    "list2=[1,2,3,4,5,6,7,8,9,10]\n",
    "tuple(map(lambda x: x**3 , list2))"
   ]
  },
  {
   "cell_type": "code",
   "execution_count": 32,
   "id": "d9da1fbc-9bb6-44d3-b3af-aedeca53e286",
   "metadata": {},
   "outputs": [],
   "source": [
    "number = 34\n",
    "output= (lambda x : \"even\" if x%2==0 else \"Odd\" , number )\n"
   ]
  },
  {
   "cell_type": "code",
   "execution_count": 33,
   "id": "8656a044-29bb-406a-8d26-327c000719de",
   "metadata": {},
   "outputs": [
    {
     "data": {
      "text/plain": [
       "(<function __main__.<lambda>(x)>, 34)"
      ]
     },
     "execution_count": 33,
     "metadata": {},
     "output_type": "execute_result"
    }
   ],
   "source": [
    "output"
   ]
  },
  {
   "cell_type": "code",
   "execution_count": 36,
   "id": "a12ab610-205a-4d13-9336-a6de72d63ab0",
   "metadata": {},
   "outputs": [
    {
     "data": {
      "text/plain": [
       "(1, 3, 5, 7, 9)"
      ]
     },
     "execution_count": 36,
     "metadata": {},
     "output_type": "execute_result"
    }
   ],
   "source": [
    "list3=[1,2,3,4,5,6,7,8,9,10]\n",
    "tuple(filter(lambda x: x%2 !=0,list3))"
   ]
  },
  {
   "cell_type": "code",
   "execution_count": 39,
   "id": "f19e0302-75e5-4fdb-bf61-e936625b224b",
   "metadata": {},
   "outputs": [
    {
     "ename": "TypeError",
     "evalue": "'int' object is not subscriptable",
     "output_type": "error",
     "traceback": [
      "\u001b[0;31m---------------------------------------------------------------------------\u001b[0m",
      "\u001b[0;31mTypeError\u001b[0m                                 Traceback (most recent call last)",
      "Cell \u001b[0;32mIn[39], line 2\u001b[0m\n\u001b[1;32m      1\u001b[0m list4 \u001b[38;5;241m=\u001b[39m [\u001b[38;5;241m1\u001b[39m,\u001b[38;5;241m2\u001b[39m,\u001b[38;5;241m3\u001b[39m,\u001b[38;5;241m4\u001b[39m,\u001b[38;5;241m5\u001b[39m,\u001b[38;5;241m6\u001b[39m,\u001b[38;5;241m-\u001b[39m\u001b[38;5;241m1\u001b[39m,\u001b[38;5;241m-\u001b[39m\u001b[38;5;241m2\u001b[39m,\u001b[38;5;241m-\u001b[39m\u001b[38;5;241m3\u001b[39m,\u001b[38;5;241m-\u001b[39m\u001b[38;5;241m4\u001b[39m,\u001b[38;5;241m-\u001b[39m\u001b[38;5;241m5\u001b[39m,\u001b[38;5;241m0\u001b[39m]\n\u001b[0;32m----> 2\u001b[0m new_list \u001b[38;5;241m=\u001b[39m \u001b[38;5;28;43msorted\u001b[39;49m\u001b[43m(\u001b[49m\u001b[43mlist4\u001b[49m\u001b[43m,\u001b[49m\u001b[43m \u001b[49m\u001b[43mkey\u001b[49m\u001b[43m \u001b[49m\u001b[38;5;241;43m=\u001b[39;49m\u001b[43m \u001b[49m\u001b[38;5;28;43;01mlambda\u001b[39;49;00m\u001b[43m \u001b[49m\u001b[43mx\u001b[49m\u001b[43m:\u001b[49m\u001b[43mx\u001b[49m\u001b[43m[\u001b[49m\u001b[38;5;241;43m0\u001b[39;49m\u001b[43m]\u001b[49m\u001b[43m,\u001b[49m\u001b[43m \u001b[49m\u001b[43mreverse\u001b[49m\u001b[38;5;241;43m=\u001b[39;49m\u001b[43m \u001b[49m\u001b[38;5;28;43;01mFalse\u001b[39;49;00m\u001b[43m)\u001b[49m\n\u001b[1;32m      3\u001b[0m \u001b[38;5;28mprint\u001b[39m(new_list)\n",
      "Cell \u001b[0;32mIn[39], line 2\u001b[0m, in \u001b[0;36m<lambda>\u001b[0;34m(x)\u001b[0m\n\u001b[1;32m      1\u001b[0m list4 \u001b[38;5;241m=\u001b[39m [\u001b[38;5;241m1\u001b[39m,\u001b[38;5;241m2\u001b[39m,\u001b[38;5;241m3\u001b[39m,\u001b[38;5;241m4\u001b[39m,\u001b[38;5;241m5\u001b[39m,\u001b[38;5;241m6\u001b[39m,\u001b[38;5;241m-\u001b[39m\u001b[38;5;241m1\u001b[39m,\u001b[38;5;241m-\u001b[39m\u001b[38;5;241m2\u001b[39m,\u001b[38;5;241m-\u001b[39m\u001b[38;5;241m3\u001b[39m,\u001b[38;5;241m-\u001b[39m\u001b[38;5;241m4\u001b[39m,\u001b[38;5;241m-\u001b[39m\u001b[38;5;241m5\u001b[39m,\u001b[38;5;241m0\u001b[39m]\n\u001b[0;32m----> 2\u001b[0m new_list \u001b[38;5;241m=\u001b[39m \u001b[38;5;28msorted\u001b[39m(list4, key \u001b[38;5;241m=\u001b[39m \u001b[38;5;28;01mlambda\u001b[39;00m x:\u001b[43mx\u001b[49m\u001b[43m[\u001b[49m\u001b[38;5;241;43m0\u001b[39;49m\u001b[43m]\u001b[49m, reverse\u001b[38;5;241m=\u001b[39m \u001b[38;5;28;01mFalse\u001b[39;00m)\n\u001b[1;32m      3\u001b[0m \u001b[38;5;28mprint\u001b[39m(new_list)\n",
      "\u001b[0;31mTypeError\u001b[0m: 'int' object is not subscriptable"
     ]
    }
   ],
   "source": [
    "list4 = [1,2,3,4,5,6,-1,-2,-3,-4,-5,0]\n",
    "new_list = sort(l)\n",
    "print(new_list)"
   ]
  },
  {
   "cell_type": "code",
   "execution_count": null,
   "id": "7d794013-8e26-4aec-8ae9-97c8086243c0",
   "metadata": {},
   "outputs": [],
   "source": []
  }
 ],
 "metadata": {
  "kernelspec": {
   "display_name": "Python 3 (ipykernel)",
   "language": "python",
   "name": "python3"
  },
  "language_info": {
   "codemirror_mode": {
    "name": "ipython",
    "version": 3
   },
   "file_extension": ".py",
   "mimetype": "text/x-python",
   "name": "python",
   "nbconvert_exporter": "python",
   "pygments_lexer": "ipython3",
   "version": "3.10.8"
  }
 },
 "nbformat": 4,
 "nbformat_minor": 5
}
