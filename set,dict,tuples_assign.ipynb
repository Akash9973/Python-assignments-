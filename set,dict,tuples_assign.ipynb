{
 "cells": [
  {
   "cell_type": "markdown",
   "id": "c0244022-75a7-4c97-9091-fcecb2e7f592",
   "metadata": {},
   "source": [
    "# Tuple, Set & Dictionary Assignment"
   ]
  },
  {
   "cell_type": "markdown",
   "id": "f6dfa406-6566-4c5d-9a04-fda3e51ece7b",
   "metadata": {},
   "source": [
    "##### Date : 2nd feb 2023\n",
    "##### Name: Akash Roy\n"
   ]
  },
  {
   "cell_type": "markdown",
   "id": "0aa689de-3dbe-4c92-9b12-35002bc2766e",
   "metadata": {},
   "source": [
    "#### Q1. What are the characteristics of the tuples? Is tuple immutable?\n",
    " \n"
   ]
  },
  {
   "cell_type": "markdown",
   "id": "713bfdc0-4eff-4a8e-87be-9d33e0a95cc5",
   "metadata": {},
   "source": [
    "Ans: Tuples in python is represented by a  bracket (). In tuples once the values is given it cannot be changed. We can use tuples as key in dictionary. Tuples cannot be edited once it is assigned.\n",
    "Tuples are immutable as it cannot be  changed."
   ]
  },
  {
   "cell_type": "code",
   "execution_count": null,
   "id": "2080736a-68ea-4393-a5be-b1193305cc22",
   "metadata": {},
   "outputs": [],
   "source": []
  },
  {
   "cell_type": "markdown",
   "id": "bcc32f36-51ae-442e-9815-e21cc898dea2",
   "metadata": {},
   "source": [
    "#### Q2. What are the two tuple methods in python? Give an example of each method. Give a reason why tuples have only two in-built methods as compared to Lists."
   ]
  },
  {
   "cell_type": "markdown",
   "id": "362b6b21-3298-410a-81d9-523f2cd6670f",
   "metadata": {},
   "source": [
    "Ans :The two tuple method of python are \n",
    "1.\tCount()\n",
    "2.\tIndex()\n"
   ]
  },
  {
   "cell_type": "code",
   "execution_count": 3,
   "id": "dbf7cc12-39af-4085-9e2b-fbabe058bbe5",
   "metadata": {},
   "outputs": [],
   "source": [
    "## lets consider an example\n",
    "\n",
    "t = (1,2,'mango',(4+7j),'bringle',1,4)"
   ]
  },
  {
   "cell_type": "code",
   "execution_count": 4,
   "id": "594d2af0-fba6-43a2-aa68-688c51c8a98a",
   "metadata": {},
   "outputs": [
    {
     "data": {
      "text/plain": [
       "1"
      ]
     },
     "execution_count": 4,
     "metadata": {},
     "output_type": "execute_result"
    }
   ],
   "source": [
    "t.count('mango')  ## this will tell you how many times mango comes in a tuple t"
   ]
  },
  {
   "cell_type": "code",
   "execution_count": 6,
   "id": "6aa97c47-a759-483a-ba57-c592fdd32616",
   "metadata": {},
   "outputs": [
    {
     "data": {
      "text/plain": [
       "2"
      ]
     },
     "execution_count": 6,
     "metadata": {},
     "output_type": "execute_result"
    }
   ],
   "source": [
    "t.index('mango')  ## this will tell you the index value of mango in a tuple"
   ]
  },
  {
   "cell_type": "markdown",
   "id": "f594e2e4-ab05-436c-9e65-173d9780082f",
   "metadata": {},
   "source": [
    "####  Q3.  Which collection datatypes in python do not allow duplicate items? Write a code using a set to remove duplicates from the given list\n",
    "\n",
    "#### List = [1, 1, 1, 2, 1, 3, 1, 4, 2, 1, 2, 2, 2, 3, 2, 4, 3, 1, 3, 2, 3, 3, 3, 4, 4, 1, 4, 2, 4, 3, 4, 4]"
   ]
  },
  {
   "cell_type": "markdown",
   "id": "8cae7124-556d-4a6e-aacc-e0d2d3467286",
   "metadata": {},
   "source": [
    "Ans: set( ) do not allow the duplicate items in python."
   ]
  },
  {
   "cell_type": "code",
   "execution_count": 3,
   "id": "4fb28c8d-0169-4775-bef4-06b05c619e60",
   "metadata": {},
   "outputs": [],
   "source": [
    "List = [1, 1, 1, 2, 1, 3, 1, 4, 2, 1, 2, 2, 2, 3, 2, 4, 3, 1, 3, 2, 3, 3, 3, 4, 4, 1, 4, 2, 4, 3, 4, 4]"
   ]
  },
  {
   "cell_type": "code",
   "execution_count": 4,
   "id": "7578b12c-7b29-4c9b-b533-71c8a212ee7a",
   "metadata": {},
   "outputs": [
    {
     "data": {
      "text/plain": [
       "{1, 2, 3, 4}"
      ]
     },
     "execution_count": 4,
     "metadata": {},
     "output_type": "execute_result"
    }
   ],
   "source": [
    "set(List)"
   ]
  },
  {
   "cell_type": "markdown",
   "id": "ef50ea3a-2330-4215-8515-3cb12667175a",
   "metadata": {},
   "source": [
    "#### Q4. Explain the difference between the union() and update() methods for a set. Give an example of \n",
    "#### each method"
   ]
  },
  {
   "cell_type": "markdown",
   "id": "5df415f1-d15b-4f4f-89d7-3b177118a55f",
   "metadata": {},
   "source": [
    "ans: Both set.update() and set.union() perform the union operation. However, set.update() adds all missing elements  whereas set.union() creates a new set. "
   ]
  },
  {
   "cell_type": "code",
   "execution_count": 29,
   "id": "85fd0ba5-206f-4e30-90ea-c106c812e4e6",
   "metadata": {},
   "outputs": [],
   "source": [
    "s={1,2,4,6}\n",
    "t={1,2,3,5,9}"
   ]
  },
  {
   "cell_type": "code",
   "execution_count": 30,
   "id": "67d30b34-ff3f-4521-be38-ea52739f2507",
   "metadata": {},
   "outputs": [],
   "source": [
    "s.update(t)"
   ]
  },
  {
   "cell_type": "code",
   "execution_count": 31,
   "id": "8b315ae1-e76f-46ab-bd1d-2b20e0e73fa7",
   "metadata": {},
   "outputs": [
    {
     "data": {
      "text/plain": [
       "{1, 2, 3, 4, 5, 6, 9}"
      ]
     },
     "execution_count": 31,
     "metadata": {},
     "output_type": "execute_result"
    }
   ],
   "source": [
    "s    ## Now s is being updated "
   ]
  },
  {
   "cell_type": "code",
   "execution_count": 32,
   "id": "58fc2f57-341c-48b5-8d3d-d560cf461aa8",
   "metadata": {},
   "outputs": [
    {
     "data": {
      "text/plain": [
       "{1, 2, 3, 4, 5, 6, 9}"
      ]
     },
     "execution_count": 32,
     "metadata": {},
     "output_type": "execute_result"
    }
   ],
   "source": [
    "t.union(s)"
   ]
  },
  {
   "cell_type": "code",
   "execution_count": 33,
   "id": "923b2f19-cc5f-4d47-baf5-d4643a48d866",
   "metadata": {},
   "outputs": [
    {
     "data": {
      "text/plain": [
       "{1, 2, 3, 5, 9}"
      ]
     },
     "execution_count": 33,
     "metadata": {},
     "output_type": "execute_result"
    }
   ],
   "source": [
    "t ## The values of t is not changed "
   ]
  },
  {
   "cell_type": "markdown",
   "id": "9d7cd0cd-eca6-455d-91ca-f636eed081f0",
   "metadata": {},
   "source": [
    "#### Q5. What is a dictionary? Give an example. Also, state whether a dictionary is ordered or unordered"
   ]
  },
  {
   "cell_type": "markdown",
   "id": "7ab649d4-4565-49fc-8748-944bd2a2bf99",
   "metadata": {},
   "source": [
    "Dictionary is an another type of listing property which consists of a key and a value enclosed by a curly braces{}. An empty set is also considered as dictionary."
   ]
  },
  {
   "cell_type": "code",
   "execution_count": 1,
   "id": "246084aa-8262-4bc9-bc42-504e6db4c098",
   "metadata": {},
   "outputs": [],
   "source": [
    "## eg\n",
    "d1={\"name\":\"Akash\",\n",
    "     \"college\":\"heritage institute of technology\"}"
   ]
  },
  {
   "cell_type": "code",
   "execution_count": 3,
   "id": "3c909641-b7d1-407d-adf3-6e6c6fc1c6dc",
   "metadata": {},
   "outputs": [
    {
     "data": {
      "text/plain": [
       "{'name': 'Akash', 'college': 'heritage institute of technology'}"
      ]
     },
     "execution_count": 3,
     "metadata": {},
     "output_type": "execute_result"
    }
   ],
   "source": [
    "d1"
   ]
  },
  {
   "cell_type": "markdown",
   "id": "ff4694c7-a533-4dd6-ac67-67778b87b71f",
   "metadata": {},
   "source": [
    "Dictionaries are ordered. It means that once the dictionary is assigned its sequence or its arder cannot be changed."
   ]
  },
  {
   "cell_type": "markdown",
   "id": "d066201d-de0a-46e3-b0c0-6237c9558978",
   "metadata": {},
   "source": [
    "#### Q6. Can we create a nested dictionary? If so, please give an example by creating a simple one-level \n",
    "####  nested dictionary."
   ]
  },
  {
   "cell_type": "markdown",
   "id": "1dfe08df-8ac7-4718-96b7-4bff2415aede",
   "metadata": {},
   "source": [
    "Yes, we can able to create a nested dictionary in python \n"
   ]
  },
  {
   "cell_type": "code",
   "execution_count": 5,
   "id": "13853849-54b1-4002-9edc-a3c522337e7a",
   "metadata": {},
   "outputs": [],
   "source": [
    "## eg\n",
    "\n",
    "d2={\"key1\":{\"key2\":\"value2\"}}"
   ]
  },
  {
   "cell_type": "code",
   "execution_count": 6,
   "id": "75d45268-88b7-4313-8133-825955acecbc",
   "metadata": {},
   "outputs": [
    {
     "data": {
      "text/plain": [
       "{'key1': {'key2': 'value2'}}"
      ]
     },
     "execution_count": 6,
     "metadata": {},
     "output_type": "execute_result"
    }
   ],
   "source": [
    "d2"
   ]
  },
  {
   "cell_type": "markdown",
   "id": "ce7e9bb2-95c0-483d-b4a9-933a646c2306",
   "metadata": {},
   "source": [
    "#### Q7. Using setdefault() method, create key named topics in the given dictionary and also add the value of \n",
    "#### the key as this list ['Python', 'Machine Learning’, 'Deep Learning']\n",
    "\n",
    "\n",
    "#### dict1 = {'language' : 'Python', 'course': 'Data Science Masters'}"
   ]
  },
  {
   "cell_type": "code",
   "execution_count": 10,
   "id": "0b5c80cd-9c5c-45c6-8158-b55080684b17",
   "metadata": {},
   "outputs": [],
   "source": [
    "dict1 = {'language' : 'Python', 'course': 'Data Science Masters'}"
   ]
  },
  {
   "cell_type": "code",
   "execution_count": 11,
   "id": "dcd460d0-6322-4ae7-98c8-6e7008dd22e2",
   "metadata": {},
   "outputs": [
    {
     "data": {
      "text/plain": [
       "{'language': 'Python', 'course': 'Data Science Masters'}"
      ]
     },
     "execution_count": 11,
     "metadata": {},
     "output_type": "execute_result"
    }
   ],
   "source": [
    "dict1"
   ]
  },
  {
   "cell_type": "code",
   "execution_count": 13,
   "id": "7c8685be-f47a-4dcd-9374-e9ef610d3dcc",
   "metadata": {},
   "outputs": [
    {
     "data": {
      "text/plain": [
       "{'language': 'Python', 'course': 'Data Science Masters', 'topics': None}"
      ]
     },
     "execution_count": 13,
     "metadata": {},
     "output_type": "execute_result"
    }
   ],
   "source": [
    "dict1.setdefault(\"topics\")\n",
    "dict1"
   ]
  },
  {
   "cell_type": "code",
   "execution_count": 16,
   "id": "10ae3a5f-62fb-4972-a4e8-4aa3491ffe66",
   "metadata": {},
   "outputs": [],
   "source": [
    "dict1[\"topics\"]=\"['Python', 'Machine Learning’, 'Deep Learning']\""
   ]
  },
  {
   "cell_type": "code",
   "execution_count": 17,
   "id": "f6ac4b81-fc6e-4203-8840-8a93658fb9b6",
   "metadata": {},
   "outputs": [
    {
     "data": {
      "text/plain": [
       "{'language': 'Python',\n",
       " 'course': 'Data Science Masters',\n",
       " 'topics': \"['Python', 'Machine Learning’, 'Deep Learning']\"}"
      ]
     },
     "execution_count": 17,
     "metadata": {},
     "output_type": "execute_result"
    }
   ],
   "source": [
    "dict1"
   ]
  },
  {
   "cell_type": "markdown",
   "id": "df0121eb-6384-4ca3-bbf1-4ecda08c9b89",
   "metadata": {},
   "source": [
    "#### Q8. What are the three view objects in dictionaries? Use the three in-built methods in python to display \n",
    "#### these three view objects for the given dictionary.\n",
    "\n",
    "\n",
    "#### dict1 = {'Sport': 'Cricket' , 'Teams': ['India', 'Australia', 'England', 'South Africa', 'Sri Lanka', 'New  Zealand']}"
   ]
  },
  {
   "cell_type": "markdown",
   "id": "7f82408c-aaad-4d92-b48f-182e7be27d03",
   "metadata": {},
   "source": [
    "The three view objects in python are keys(), items(), view()"
   ]
  },
  {
   "cell_type": "code",
   "execution_count": 18,
   "id": "5e2c1378-9b7d-4e08-bd26-b683f8682553",
   "metadata": {},
   "outputs": [],
   "source": [
    "dict2 = {'Sport': 'Cricket' , 'Teams': ['India', 'Australia', 'England', 'South Africa', 'Sri Lanka', 'New Zealand']}"
   ]
  },
  {
   "cell_type": "code",
   "execution_count": 19,
   "id": "64d5c35f-d0ee-4521-a89e-c8e1d930bf65",
   "metadata": {},
   "outputs": [
    {
     "data": {
      "text/plain": [
       "{'Sport': 'Cricket',\n",
       " 'Teams': ['India',\n",
       "  'Australia',\n",
       "  'England',\n",
       "  'South Africa',\n",
       "  'Sri Lanka',\n",
       "  'New Zealand']}"
      ]
     },
     "execution_count": 19,
     "metadata": {},
     "output_type": "execute_result"
    }
   ],
   "source": [
    "dict2"
   ]
  },
  {
   "cell_type": "code",
   "execution_count": 20,
   "id": "43a16d0c-2a1d-439a-a43a-8c4cf1baa8c4",
   "metadata": {},
   "outputs": [
    {
     "data": {
      "text/plain": [
       "dict_keys(['Sport', 'Teams'])"
      ]
     },
     "execution_count": 20,
     "metadata": {},
     "output_type": "execute_result"
    }
   ],
   "source": [
    "dict2.keys()"
   ]
  },
  {
   "cell_type": "code",
   "execution_count": 21,
   "id": "32f920e5-b6e4-46ac-9360-dd26772b323b",
   "metadata": {},
   "outputs": [
    {
     "data": {
      "text/plain": [
       "dict_items([('Sport', 'Cricket'), ('Teams', ['India', 'Australia', 'England', 'South Africa', 'Sri Lanka', 'New Zealand'])])"
      ]
     },
     "execution_count": 21,
     "metadata": {},
     "output_type": "execute_result"
    }
   ],
   "source": [
    "dict2.items()"
   ]
  },
  {
   "cell_type": "code",
   "execution_count": 22,
   "id": "b009fbda-27ca-4834-a65a-31659579bce4",
   "metadata": {},
   "outputs": [
    {
     "ename": "AttributeError",
     "evalue": "'dict' object has no attribute 'views'",
     "output_type": "error",
     "traceback": [
      "\u001b[0;31m---------------------------------------------------------------------------\u001b[0m",
      "\u001b[0;31mAttributeError\u001b[0m                            Traceback (most recent call last)",
      "Cell \u001b[0;32mIn[22], line 1\u001b[0m\n\u001b[0;32m----> 1\u001b[0m \u001b[43mdict2\u001b[49m\u001b[38;5;241;43m.\u001b[39;49m\u001b[43mviews\u001b[49m()\n",
      "\u001b[0;31mAttributeError\u001b[0m: 'dict' object has no attribute 'views'"
     ]
    }
   ],
   "source": [
    "dict2.views()"
   ]
  },
  {
   "cell_type": "code",
   "execution_count": null,
   "id": "6d9c550c-4865-414e-90da-cde34dc80b73",
   "metadata": {},
   "outputs": [],
   "source": []
  }
 ],
 "metadata": {
  "kernelspec": {
   "display_name": "Python 3 (ipykernel)",
   "language": "python",
   "name": "python3"
  },
  "language_info": {
   "codemirror_mode": {
    "name": "ipython",
    "version": 3
   },
   "file_extension": ".py",
   "mimetype": "text/x-python",
   "name": "python",
   "nbconvert_exporter": "python",
   "pygments_lexer": "ipython3",
   "version": "3.10.8"
  }
 },
 "nbformat": 4,
 "nbformat_minor": 5
}
